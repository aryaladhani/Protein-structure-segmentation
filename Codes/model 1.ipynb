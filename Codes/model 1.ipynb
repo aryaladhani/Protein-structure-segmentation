{
  "nbformat": 4,
  "nbformat_minor": 0,
  "metadata": {
    "colab": {
      "provenance": []
    },
    "kernelspec": {
      "name": "python3",
      "display_name": "Python 3"
    },
    "language_info": {
      "name": "python"
    },
    "accelerator": "GPU",
    "gpuClass": "standard"
  },
  "cells": [
    {
      "cell_type": "markdown",
      "source": [
        "Mounting the Drive to load the Dataset\n"
      ],
      "metadata": {
        "id": "k4LXQY_VtJqo"
      }
    },
    {
      "cell_type": "code",
      "source": [
        "from google.colab import drive\n",
        "drive.mount('/content/drive')\n",
        "#include the path in which the data is stored\n",
        "positive_proteins_dir = \"/content/drive/MyDrive/utils/positive.txt\"\n",
        "#include path where positive proteins are present\n",
        "negative_proteins_dir = \"/content/drive/MyDrive/utils/negative.txt\"\n",
        "#include path where negative proteins are present"
      ],
      "metadata": {
        "id": "6gfGDnuWYGrE",
        "colab": {
          "base_uri": "https://localhost:8080/"
        },
        "outputId": "116e8a72-5925-42db-bc17-886beccf2b44"
      },
      "execution_count": 1,
      "outputs": [
        {
          "output_type": "stream",
          "name": "stdout",
          "text": [
            "Drive already mounted at /content/drive; to attempt to forcibly remount, call drive.mount(\"/content/drive\", force_remount=True).\n"
          ]
        }
      ]
    },
    {
      "cell_type": "markdown",
      "source": [
        "Importing necessary libraries"
      ],
      "metadata": {
        "id": "1_SAnokitOkY"
      }
    },
    {
      "cell_type": "code",
      "source": [
        "import random\n",
        "import numpy as np  \n",
        "import torch \n",
        "import torch.nn as nn\n",
        "import torch.nn.functional as F\n",
        "import time \n",
        "import matplotlib.pyplot as plt"
      ],
      "metadata": {
        "id": "dCtmCzy8YSgN"
      },
      "execution_count": 2,
      "outputs": []
    },
    {
      "cell_type": "markdown",
      "source": [
        "Helper functions necessary for converting .txt file to processible data"
      ],
      "metadata": {
        "id": "HP1salittawM"
      }
    },
    {
      "cell_type": "code",
      "source": [
        "\n",
        "def average_sequence_length(data):\n",
        "  sum =0\n",
        "  for i in range(len(data)):\n",
        "    sum += len(data[i][1])\n",
        "  return (sum//len(data))\n",
        "\n",
        "def add_amino_acids(protein, avg):\n",
        "    n = len(protein)\n",
        "    x = avg - n\n",
        "    protein2 = protein + x*str('A')\n",
        "    return protein2\n",
        "\n",
        "def remove_amino_acids(protein,avg):\n",
        "    n = len(protein)\n",
        "    x = n - avg\n",
        "    protein2 = protein[x//2:x//2+avg]\n",
        "    return protein2\n",
        "\n",
        "def augment_protein_sequence(data):\n",
        "    avg = 390\n",
        "    for i in range (len(data)):\n",
        "        if (len(data[i][1])>avg):\n",
        "          data[i][1] = remove_amino_acids(data[i][1],avg)\n",
        "        else:\n",
        "          data[i][1] = add_amino_acids(data[i][1],avg)\n",
        "    return data \n",
        "\n",
        "def sequence_extraction(data_dir,protein_category):\n",
        "    f = open(data_dir)\n",
        "    lines = f.read() \n",
        "    lines = lines.split('>')\n",
        "    out = [[0 for x in range(3)] for y in range(len(lines))]\n",
        "    for i in range(len(lines)):\n",
        "      line= lines[i].split(' ')\n",
        "      accesion_code = line[0]\n",
        "      sequence = line[-1].split(']')[-1].replace('\\n','')\n",
        "      out[i][0] = str(accesion_code)\n",
        "      out[i][1] = str(sequence).replace('Precursor','')\n",
        "      out[i][1] = out[i][1].replace('C887.02','')\n",
        "      if (protein_category=='positive'):\n",
        "          out[i][2]=1\n",
        "      else :\n",
        "          out[i][2]=0\n",
        "    return out[1:]\n",
        "\n",
        "protein_set ={\n",
        "    'A':0,\n",
        "    'C':1,\n",
        "    'D':2,\n",
        "    'E':3,\n",
        "    'F':4,\n",
        "    'G':5,\n",
        "    'H':6,\n",
        "    'I':7,\n",
        "    'K':8,\n",
        "    'L':9,\n",
        "    'M':10,\n",
        "    'N':11,\n",
        "    'P':12,\n",
        "    'Q':13,\n",
        "    'R':14,\n",
        "    'S':15,\n",
        "    'T':16,\n",
        "    'V':17,\n",
        "    'W':18,\n",
        "    'Y':19\n",
        "}\n",
        "def get_process_data(protein_data):\n",
        "  random_sequence = protein_data[0][1]\n",
        "  protein_size = len(random_sequence)\n",
        "  data_size = len(protein_data)\n",
        "  inputs = -1*np.ones((data_size,protein_size,20))\n",
        "  labels = np.zeros((data_size,1))\n",
        "  for i in range(data_size):\n",
        "    protein_sequence = protein_data[i][1]\n",
        "    for j in range (len(protein_sequence)):\n",
        "      amino_acid = protein_sequence[j]\n",
        "      if (amino_acid=='B' or amino_acid=='J' or  amino_acid=='O' or amino_acid=='U' or amino_acid=='X' or amino_acid=='Z'  ):\n",
        "        amino_acid ='A'\n",
        "      k = protein_set[amino_acid]\n",
        "      inputs[i][j][k] = 390\n",
        "    labels[i][0]=protein_data[i][2]\n",
        "  inputs = np.reshape(inputs, [data_size,len(protein_data[0][1])*20])\n",
        "  labels = np.reshape(labels, [data_size,1])\n",
        "  inputs = torch.from_numpy(inputs)\n",
        "  labels = torch.from_numpy(labels)\n",
        "  inputs = inputs.type(torch.FloatTensor)\n",
        "  labels = labels.type(torch.FloatTensor)\n",
        "  return inputs, labels \n",
        "\n",
        "def get_data(protein_dataset):\n",
        "  dataset = augment_protein_sequence(protein_dataset)\n",
        "  training_set = dataset[0:5000]\n",
        "  val_set = dataset[5000:5370]\n",
        "  test_set = dataset[5370:]\n",
        "  training_inputs, training_labels = get_process_data(training_set)\n",
        "  val_inputs, val_labels = get_process_data(val_set)\n",
        "  test_inputs, test_labels = get_process_data(test_set)\n",
        "  return training_inputs, training_labels, val_inputs, val_labels, test_inputs, test_labels\n",
        "\n",
        "def getlength(data):\n",
        "    sequence_length= []\n",
        "    for i in range(len(data)):\n",
        "        sequence_length.append(len(data[i][1]))\n",
        "    return np.array(sequence_length)\n",
        "# print(dataset)"
      ],
      "metadata": {
        "id": "BWW41-L2YKwe"
      },
      "execution_count": 3,
      "outputs": []
    },
    {
      "cell_type": "markdown",
      "source": [
        "Data Visualization \n"
      ],
      "metadata": {
        "id": "hAna9lrbtz1p"
      }
    },
    {
      "cell_type": "code",
      "source": [
        "positive_proteins = sequence_extraction(positive_proteins_dir,'positive')\n",
        "negative_proteins = sequence_extraction (negative_proteins_dir,'negative')\n",
        "len_pos = getlength(positive_proteins)\n",
        "len_neg = getlength(negative_proteins)\n",
        "print(\"The number of positive classifiers in the dataset are :\" + str(len(positive_proteins)))\n",
        "print(\"The number of negative classifiers in the dataset are :\" + str(len(negative_proteins)))\n",
        "print(f\"Average length of positive classifiers is: {average_sequence_length(positive_proteins)}\")\n",
        "print(f\"Average length of negative classifiers is: {average_sequence_length(negative_proteins)}\")"
      ],
      "metadata": {
        "colab": {
          "base_uri": "https://localhost:8080/"
        },
        "id": "X5yz6L22uTvh",
        "outputId": "e568af13-9a1c-466e-d5b3-a350e15b49eb"
      },
      "execution_count": 4,
      "outputs": [
        {
          "output_type": "stream",
          "name": "stdout",
          "text": [
            "The number of positive classifiers in the dataset are :2870\n",
            "The number of negative classifiers in the dataset are :76614\n",
            "Average length of positive classifiers is: 226\n",
            "Average length of negative classifiers is: 555\n"
          ]
        }
      ]
    },
    {
      "cell_type": "code",
      "source": [
        "plt.scatter(np.arange(0,len(len_pos),1), len_pos , color ='g', marker = '+', s= 6)\n",
        "plt.xlabel(\"Protein Sequence Number\")\n",
        "plt.ylabel(\"Sequence Length\")\n",
        "plt.show()\n",
        "plt.savefig('/content/drive/MyDrive/utils/positive_data_visualization.jpg')"
      ],
      "metadata": {
        "colab": {
          "base_uri": "https://localhost:8080/",
          "height": 297
        },
        "id": "txfDl27Kwak7",
        "outputId": "37aec5e1-64b5-4a5d-8f0c-fcaab2d9ed2e"
      },
      "execution_count": 5,
      "outputs": [
        {
          "output_type": "display_data",
          "data": {
            "text/plain": [
              "<Figure size 432x288 with 1 Axes>"
            ],
            "image/png": "[encoded data removed]"
          },
          "metadata": {
            "needs_background": "light"
          }
        },
        {
          "output_type": "display_data",
          "data": {
            "text/plain": [
              "<Figure size 432x288 with 0 Axes>"
            ]
          },
          "metadata": {}
        }
      ]
    },
    {
      "cell_type": "code",
      "source": [
        "plt.scatter(np.arange(0,len(len_neg),1), len_neg , color ='r', marker = 'X', s=1)\n",
        "plt.xlabel(\"Protein Sequence Number\")\n",
        "plt.ylabel(\"Sequence Length\")\n",
        "plt.show()\n",
        "plt.savefig('/content/drive/MyDrive/utils/negative_data_visualization.jpg')"
      ],
      "metadata": {
        "colab": {
          "base_uri": "https://localhost:8080/",
          "height": 297
        },
        "id": "ZcHEERQOwbgZ",
        "outputId": "86192214-36e2-4e61-b22c-23533e86e84a"
      },
      "execution_count": 6,
      "outputs": [
        {
          "output_type": "display_data",
          "data": {
            "text/plain": [
              "<Figure size 432x288 with 1 Axes>"
            ],
            "image/png": "[encoded data removed]"
          },
          "metadata": {
            "needs_background": "light"
          }
        },
        {
          "output_type": "display_data",
          "data": {
            "text/plain": [
              "<Figure size 432x288 with 0 Axes>"
            ]
          },
          "metadata": {}
        }
      ]
    },
    {
      "cell_type": "code",
      "source": [
        "protein_dataset = positive_proteins + negative_proteins[0:len(positive_proteins)]\n",
        "plt.scatter(np.arange(0,len(len_pos),1), len_pos , color ='g', marker = '+', s= 6)\n",
        "plt.scatter(np.arange(0,len(len_pos),1), len_neg[0:len(len_pos)] , color ='r', marker = 'X', s= 6)\n",
        "# plt.plot(x390)\n",
        "plt.axhline(y = 390, color ='b')\n",
        "plt.xlabel(\"Protein Sequence Number\")\n",
        "plt.ylabel(\"Sequence Length\")\n",
        "plt.show()\n",
        "plt.savefig('/content/drive/MyDrive/utils/positve_vs_negative_data_visualization.jpg')"
      ],
      "metadata": {
        "id": "qV8GxtUW96k3",
        "colab": {
          "base_uri": "https://localhost:8080/",
          "height": 297
        },
        "outputId": "d6c908e7-0d16-4112-df42-4a0f3d62f8be"
      },
      "execution_count": 7,
      "outputs": [
        {
          "output_type": "display_data",
          "data": {
            "text/plain": [
              "<Figure size 432x288 with 1 Axes>"
            ],
            "image/png": "[encoded data removed]"
          },
          "metadata": {
            "needs_background": "light"
          }
        },
        {
          "output_type": "display_data",
          "data": {
            "text/plain": [
              "<Figure size 432x288 with 0 Axes>"
            ]
          },
          "metadata": {}
        }
      ]
    },
    {
      "cell_type": "markdown",
      "source": [
        "Data Loading"
      ],
      "metadata": {
        "id": "-r_bvg3f3EXe"
      }
    },
    {
      "cell_type": "code",
      "source": [
        "augmented_sequences = augment_protein_sequence(protein_dataset)\n",
        "random.shuffle(augmented_sequences)\n",
        "training_inputs, training_labels, val_inputs, val_labels, test_inputs, test_labels = get_data(augmented_sequences)"
      ],
      "metadata": {
        "id": "SroAJCAQ2Jwb"
      },
      "execution_count": 8,
      "outputs": []
    },
    {
      "cell_type": "markdown",
      "source": [
        "Data Analysis is complete now. Proceeding towards model building"
      ],
      "metadata": {
        "id": "0qBa5-Nt3Id-"
      }
    },
    {
      "cell_type": "markdown",
      "source": [
        "Model 1 - 5 Layers(7560-1000-400-100-20-1), Stochastic Gradient Descent, 50 epochs, learning rate = 0.0001, Momentum =0.9\n",
        "loss used = Binary Cross Entropy"
      ],
      "metadata": {
        "id": "wRUc6tAv3auV"
      }
    },
    {
      "cell_type": "code",
      "source": [
        "class nnModel1(nn.Module):\n",
        "  def __init__(self):\n",
        "    super (nnModel1,self).__init__()\n",
        "    self.linear1 = nn.Linear(7800,1000)\n",
        "    self.linear2 = nn.Linear(1000,400)\n",
        "    self.linear3= nn.Linear(400,100)\n",
        "    self.linear4 = nn.Linear(100,20)\n",
        "    self.linear5 = nn.Linear(20,1)\n",
        "    self.sigmoid = nn.Sigmoid()\n",
        "\n",
        "  def forward(self,x):\n",
        "    # print(type(x))\n",
        "    x = self.linear1(x)\n",
        "    x = self.linear2(x)\n",
        "    x = self.linear3(x)\n",
        "    x = self.linear4(x)\n",
        "    x = self.linear5(x)\n",
        "    x = self.sigmoid(x)\n",
        "    return x\n",
        "\n",
        "model1 = nnModel1()\n",
        "Optimizer = torch.optim.SGD(model1.parameters(),lr =0.0001, momentum =0.9)\n",
        "loss_fn_1 = nn.BCELoss()"
      ],
      "metadata": {
        "id": "-9d0YPACZICV"
      },
      "execution_count": 9,
      "outputs": []
    },
    {
      "cell_type": "markdown",
      "source": [
        "Model1 Training\n"
      ],
      "metadata": {
        "id": "SXiR5tCaPNmQ"
      }
    },
    {
      "cell_type": "code",
      "source": [
        "training_losses = []\n",
        "val_accuracy = []\n",
        "val_correct =[] \n",
        "val_losses=[]\n",
        "max_accuracy = 0 \n",
        "for epoch in range(50):\n",
        "  Optimizer.zero_grad()\n",
        "  training_predictions = model1(training_inputs)\n",
        "  loss = loss_fn_1(training_predictions,training_labels)\n",
        "  val_predictions = model1(val_inputs)\n",
        "  val_loss = loss_fn_1(val_predictions, val_labels)\n",
        "  val = torch.cat((val_predictions, val_labels),1)\n",
        "  correct =0\n",
        "  for i in range (val.shape[0]):\n",
        "    if (abs(val[i][0]-val[i][1])<10e-5):\n",
        "      correct =correct +1\n",
        "  accuracy = float(correct/val.shape[0])\n",
        "  val_correct.append(correct)\n",
        "  val_accuracy.append(accuracy)\n",
        "  training_losses.append(loss)\n",
        "  val_losses.append(val_loss)\n",
        "  print(f'Currently Running iteration number: {epoch+1}')\n",
        "  print(f'Training Loss after {epoch+1} iterations: {loss}')\n",
        "  print(f'Validation Loss after {epoch+1} iterations: {val_loss}')\n",
        "  print(f'Correct Predictions after {epoch+1} iterations: {correct}')\n",
        "  print(f'Validation Accuracy after {epoch+1} iterations: {accuracy*100}%')\n",
        "  if (accuracy >max_accuracy):\n",
        "    torch.save(model1.state_dict(),f\"/content/drive/MyDrive/utils/Model1_data/Best accuracy parameters\")\n",
        "    max_accuracy = accuracy\n",
        "  loss.backward()\n",
        "  Optimizer.step()"
      ],
      "metadata": {
        "id": "s3OGQIpXZMNT",
        "colab": {
          "base_uri": "https://localhost:8080/"
        },
        "outputId": "6bf509d8-324d-4e3b-cf22-8f8735626ac7"
      },
      "execution_count": 10,
      "outputs": [
        {
          "output_type": "stream",
          "name": "stdout",
          "text": [
            "Currently Running iteration number: 1\n",
            "Training Loss after 1 iterations: 1.8886326551437378\n",
            "Validation Loss after 1 iterations: 1.9178743362426758\n",
            "Correct Predictions after 1 iterations: 15\n",
            "Validation Accuracy after 1 iterations: 4.054054054054054%\n",
            "Currently Running iteration number: 2\n",
            "Training Loss after 2 iterations: 1.496050477027893\n",
            "Validation Loss after 2 iterations: 1.463152289390564\n",
            "Correct Predictions after 2 iterations: 48\n",
            "Validation Accuracy after 2 iterations: 12.972972972972974%\n",
            "Currently Running iteration number: 3\n",
            "Training Loss after 3 iterations: 1.4877219200134277\n",
            "Validation Loss after 3 iterations: 1.22480046749115\n",
            "Correct Predictions after 3 iterations: 105\n",
            "Validation Accuracy after 3 iterations: 28.37837837837838%\n",
            "Currently Running iteration number: 4\n",
            "Training Loss after 4 iterations: 1.3708962202072144\n",
            "Validation Loss after 4 iterations: 1.1864675283432007\n",
            "Correct Predictions after 4 iterations: 136\n",
            "Validation Accuracy after 4 iterations: 36.75675675675676%\n",
            "Currently Running iteration number: 5\n",
            "Training Loss after 5 iterations: 1.0825682878494263\n",
            "Validation Loss after 5 iterations: 0.7581321001052856\n",
            "Correct Predictions after 5 iterations: 161\n",
            "Validation Accuracy after 5 iterations: 43.513513513513516%\n",
            "Currently Running iteration number: 6\n",
            "Training Loss after 6 iterations: 0.905221700668335\n",
            "Validation Loss after 6 iterations: 0.6692418456077576\n",
            "Correct Predictions after 6 iterations: 180\n",
            "Validation Accuracy after 6 iterations: 48.64864864864865%\n",
            "Currently Running iteration number: 7\n",
            "Training Loss after 7 iterations: 0.7172809839248657\n",
            "Validation Loss after 7 iterations: 0.6502212882041931\n",
            "Correct Predictions after 7 iterations: 180\n",
            "Validation Accuracy after 7 iterations: 48.64864864864865%\n",
            "Currently Running iteration number: 8\n",
            "Training Loss after 8 iterations: 0.6801711916923523\n",
            "Validation Loss after 8 iterations: 0.6588800549507141\n",
            "Correct Predictions after 8 iterations: 170\n",
            "Validation Accuracy after 8 iterations: 45.94594594594595%\n",
            "Currently Running iteration number: 9\n",
            "Training Loss after 9 iterations: 0.6564543843269348\n",
            "Validation Loss after 9 iterations: 0.6808998584747314\n",
            "Correct Predictions after 9 iterations: 162\n",
            "Validation Accuracy after 9 iterations: 43.78378378378379%\n",
            "Currently Running iteration number: 10\n",
            "Training Loss after 10 iterations: 0.640274703502655\n",
            "Validation Loss after 10 iterations: 0.6810151934623718\n",
            "Correct Predictions after 10 iterations: 168\n",
            "Validation Accuracy after 10 iterations: 45.40540540540541%\n",
            "Currently Running iteration number: 11\n",
            "Training Loss after 11 iterations: 0.5858719348907471\n",
            "Validation Loss after 11 iterations: 0.6212705373764038\n",
            "Correct Predictions after 11 iterations: 180\n",
            "Validation Accuracy after 11 iterations: 48.64864864864865%\n",
            "Currently Running iteration number: 12\n",
            "Training Loss after 12 iterations: 0.5756436586380005\n",
            "Validation Loss after 12 iterations: 0.568153977394104\n",
            "Correct Predictions after 12 iterations: 198\n",
            "Validation Accuracy after 12 iterations: 53.51351351351351%\n",
            "Currently Running iteration number: 13\n",
            "Training Loss after 13 iterations: 0.5543318390846252\n",
            "Validation Loss after 13 iterations: 0.541709303855896\n",
            "Correct Predictions after 13 iterations: 217\n",
            "Validation Accuracy after 13 iterations: 58.648648648648646%\n",
            "Currently Running iteration number: 14\n",
            "Training Loss after 14 iterations: 0.6201964020729065\n",
            "Validation Loss after 14 iterations: 0.524847686290741\n",
            "Correct Predictions after 14 iterations: 229\n",
            "Validation Accuracy after 14 iterations: 61.891891891891895%\n",
            "Currently Running iteration number: 15\n",
            "Training Loss after 15 iterations: 0.6133993864059448\n",
            "Validation Loss after 15 iterations: 0.5043466091156006\n",
            "Correct Predictions after 15 iterations: 231\n",
            "Validation Accuracy after 15 iterations: 62.43243243243243%\n",
            "Currently Running iteration number: 16\n",
            "Training Loss after 16 iterations: 0.5700709223747253\n",
            "Validation Loss after 16 iterations: 0.4826478362083435\n",
            "Correct Predictions after 16 iterations: 225\n",
            "Validation Accuracy after 16 iterations: 60.810810810810814%\n",
            "Currently Running iteration number: 17\n",
            "Training Loss after 17 iterations: 0.5480304956436157\n",
            "Validation Loss after 17 iterations: 0.4658776819705963\n",
            "Correct Predictions after 17 iterations: 210\n",
            "Validation Accuracy after 17 iterations: 56.75675675675676%\n",
            "Currently Running iteration number: 18\n",
            "Training Loss after 18 iterations: 0.5179522633552551\n",
            "Validation Loss after 18 iterations: 0.457355260848999\n",
            "Correct Predictions after 18 iterations: 203\n",
            "Validation Accuracy after 18 iterations: 54.864864864864856%\n",
            "Currently Running iteration number: 19\n",
            "Training Loss after 19 iterations: 0.4878982901573181\n",
            "Validation Loss after 19 iterations: 0.4467741549015045\n",
            "Correct Predictions after 19 iterations: 203\n",
            "Validation Accuracy after 19 iterations: 54.864864864864856%\n",
            "Currently Running iteration number: 20\n",
            "Training Loss after 20 iterations: 0.48442164063453674\n",
            "Validation Loss after 20 iterations: 0.42621496319770813\n",
            "Correct Predictions after 20 iterations: 199\n",
            "Validation Accuracy after 20 iterations: 53.783783783783775%\n",
            "Currently Running iteration number: 21\n",
            "Training Loss after 21 iterations: 0.4813944697380066\n",
            "Validation Loss after 21 iterations: 0.40490666031837463\n",
            "Correct Predictions after 21 iterations: 194\n",
            "Validation Accuracy after 21 iterations: 52.43243243243243%\n",
            "Currently Running iteration number: 22\n",
            "Training Loss after 22 iterations: 0.4675506353378296\n",
            "Validation Loss after 22 iterations: 0.39014992117881775\n",
            "Correct Predictions after 22 iterations: 195\n",
            "Validation Accuracy after 22 iterations: 52.702702702702695%\n",
            "Currently Running iteration number: 23\n",
            "Training Loss after 23 iterations: 0.4558504521846771\n",
            "Validation Loss after 23 iterations: 0.3788403570652008\n",
            "Correct Predictions after 23 iterations: 192\n",
            "Validation Accuracy after 23 iterations: 51.891891891891895%\n",
            "Currently Running iteration number: 24\n",
            "Training Loss after 24 iterations: 0.4249809980392456\n",
            "Validation Loss after 24 iterations: 0.3669799268245697\n",
            "Correct Predictions after 24 iterations: 187\n",
            "Validation Accuracy after 24 iterations: 50.54054054054053%\n",
            "Currently Running iteration number: 25\n",
            "Training Loss after 25 iterations: 0.39180025458335876\n",
            "Validation Loss after 25 iterations: 0.3530479371547699\n",
            "Correct Predictions after 25 iterations: 175\n",
            "Validation Accuracy after 25 iterations: 47.2972972972973%\n",
            "Currently Running iteration number: 26\n",
            "Training Loss after 26 iterations: 0.3609160780906677\n",
            "Validation Loss after 26 iterations: 0.34241169691085815\n",
            "Correct Predictions after 26 iterations: 164\n",
            "Validation Accuracy after 26 iterations: 44.32432432432433%\n",
            "Currently Running iteration number: 27\n",
            "Training Loss after 27 iterations: 0.3179813027381897\n",
            "Validation Loss after 27 iterations: 0.33712953329086304\n",
            "Correct Predictions after 27 iterations: 157\n",
            "Validation Accuracy after 27 iterations: 42.432432432432435%\n",
            "Currently Running iteration number: 28\n",
            "Training Loss after 28 iterations: 0.2911626100540161\n",
            "Validation Loss after 28 iterations: 0.3308156430721283\n",
            "Correct Predictions after 28 iterations: 150\n",
            "Validation Accuracy after 28 iterations: 40.54054054054054%\n",
            "Currently Running iteration number: 29\n",
            "Training Loss after 29 iterations: 0.2607676386833191\n",
            "Validation Loss after 29 iterations: 0.31862401962280273\n",
            "Correct Predictions after 29 iterations: 148\n",
            "Validation Accuracy after 29 iterations: 40.0%\n",
            "Currently Running iteration number: 30\n",
            "Training Loss after 30 iterations: 0.24915041029453278\n",
            "Validation Loss after 30 iterations: 0.3070877194404602\n",
            "Correct Predictions after 30 iterations: 144\n",
            "Validation Accuracy after 30 iterations: 38.91891891891892%\n",
            "Currently Running iteration number: 31\n",
            "Training Loss after 31 iterations: 0.24090836942195892\n",
            "Validation Loss after 31 iterations: 0.2995636463165283\n",
            "Correct Predictions after 31 iterations: 140\n",
            "Validation Accuracy after 31 iterations: 37.83783783783784%\n",
            "Currently Running iteration number: 32\n",
            "Training Loss after 32 iterations: 0.23301970958709717\n",
            "Validation Loss after 32 iterations: 0.29412758350372314\n",
            "Correct Predictions after 32 iterations: 136\n",
            "Validation Accuracy after 32 iterations: 36.75675675675676%\n",
            "Currently Running iteration number: 33\n",
            "Training Loss after 33 iterations: 0.22443510591983795\n",
            "Validation Loss after 33 iterations: 0.29030725359916687\n",
            "Correct Predictions after 33 iterations: 135\n",
            "Validation Accuracy after 33 iterations: 36.486486486486484%\n",
            "Currently Running iteration number: 34\n",
            "Training Loss after 34 iterations: 0.21776896715164185\n",
            "Validation Loss after 34 iterations: 0.28977227210998535\n",
            "Correct Predictions after 34 iterations: 133\n",
            "Validation Accuracy after 34 iterations: 35.945945945945944%\n",
            "Currently Running iteration number: 35\n",
            "Training Loss after 35 iterations: 0.21362397074699402\n",
            "Validation Loss after 35 iterations: 0.29142317175865173\n",
            "Correct Predictions after 35 iterations: 133\n",
            "Validation Accuracy after 35 iterations: 35.945945945945944%\n",
            "Currently Running iteration number: 36\n",
            "Training Loss after 36 iterations: 0.20921191573143005\n",
            "Validation Loss after 36 iterations: 0.2904776334762573\n",
            "Correct Predictions after 36 iterations: 134\n",
            "Validation Accuracy after 36 iterations: 36.21621621621622%\n",
            "Currently Running iteration number: 37\n",
            "Training Loss after 37 iterations: 0.20345427095890045\n",
            "Validation Loss after 37 iterations: 0.2856731414794922\n",
            "Correct Predictions after 37 iterations: 136\n",
            "Validation Accuracy after 37 iterations: 36.75675675675676%\n",
            "Currently Running iteration number: 38\n",
            "Training Loss after 38 iterations: 0.1983521729707718\n",
            "Validation Loss after 38 iterations: 0.28043776750564575\n",
            "Correct Predictions after 38 iterations: 141\n",
            "Validation Accuracy after 38 iterations: 38.108108108108105%\n",
            "Currently Running iteration number: 39\n",
            "Training Loss after 39 iterations: 0.19420477747917175\n",
            "Validation Loss after 39 iterations: 0.2767813801765442\n",
            "Correct Predictions after 39 iterations: 142\n",
            "Validation Accuracy after 39 iterations: 38.37837837837838%\n",
            "Currently Running iteration number: 40\n",
            "Training Loss after 40 iterations: 0.189640074968338\n",
            "Validation Loss after 40 iterations: 0.27433452010154724\n",
            "Correct Predictions after 40 iterations: 145\n",
            "Validation Accuracy after 40 iterations: 39.189189189189186%\n",
            "Currently Running iteration number: 41\n",
            "Training Loss after 41 iterations: 0.1839669942855835\n",
            "Validation Loss after 41 iterations: 0.272617906332016\n",
            "Correct Predictions after 41 iterations: 145\n",
            "Validation Accuracy after 41 iterations: 39.189189189189186%\n",
            "Currently Running iteration number: 42\n",
            "Training Loss after 42 iterations: 0.1779397428035736\n",
            "Validation Loss after 42 iterations: 0.27172598242759705\n",
            "Correct Predictions after 42 iterations: 144\n",
            "Validation Accuracy after 42 iterations: 38.91891891891892%\n",
            "Currently Running iteration number: 43\n",
            "Training Loss after 43 iterations: 0.172403484582901\n",
            "Validation Loss after 43 iterations: 0.27136939764022827\n",
            "Correct Predictions after 43 iterations: 143\n",
            "Validation Accuracy after 43 iterations: 38.648648648648646%\n",
            "Currently Running iteration number: 44\n",
            "Training Loss after 44 iterations: 0.16711457073688507\n",
            "Validation Loss after 44 iterations: 0.27019059658050537\n",
            "Correct Predictions after 44 iterations: 142\n",
            "Validation Accuracy after 44 iterations: 38.37837837837838%\n",
            "Currently Running iteration number: 45\n",
            "Training Loss after 45 iterations: 0.16140992939472198\n",
            "Validation Loss after 45 iterations: 0.2669869363307953\n",
            "Correct Predictions after 45 iterations: 143\n",
            "Validation Accuracy after 45 iterations: 38.648648648648646%\n",
            "Currently Running iteration number: 46\n",
            "Training Loss after 46 iterations: 0.1556055098772049\n",
            "Validation Loss after 46 iterations: 0.2623524069786072\n",
            "Correct Predictions after 46 iterations: 145\n",
            "Validation Accuracy after 46 iterations: 39.189189189189186%\n",
            "Currently Running iteration number: 47\n",
            "Training Loss after 47 iterations: 0.15044359862804413\n",
            "Validation Loss after 47 iterations: 0.2578655481338501\n",
            "Correct Predictions after 47 iterations: 146\n",
            "Validation Accuracy after 47 iterations: 39.45945945945946%\n",
            "Currently Running iteration number: 48\n",
            "Training Loss after 48 iterations: 0.14595136046409607\n",
            "Validation Loss after 48 iterations: 0.25434979796409607\n",
            "Correct Predictions after 48 iterations: 148\n",
            "Validation Accuracy after 48 iterations: 40.0%\n",
            "Currently Running iteration number: 49\n",
            "Training Loss after 49 iterations: 0.14171212911605835\n",
            "Validation Loss after 49 iterations: 0.2517661154270172\n",
            "Correct Predictions after 49 iterations: 148\n",
            "Validation Accuracy after 49 iterations: 40.0%\n",
            "Currently Running iteration number: 50\n",
            "Training Loss after 50 iterations: 0.1376616209745407\n",
            "Validation Loss after 50 iterations: 0.2499391734600067\n",
            "Correct Predictions after 50 iterations: 147\n",
            "Validation Accuracy after 50 iterations: 39.729729729729726%\n"
          ]
        }
      ]
    },
    {
      "cell_type": "markdown",
      "source": [
        "Loss and Accuracy Visualization"
      ],
      "metadata": {
        "id": "NnvJBjn-a1lD"
      }
    },
    {
      "cell_type": "code",
      "source": [
        "# for i in range (len(training_losses)):\n",
        "#   training_losses[i] = training_losses[i].detach().numpy()\n",
        "# for i in range (len(training_losses)):\n",
        "#   val_losses[i] = val_losses[i].detach().numpy()\n",
        "training_losses_np = np.array(training_losses)\n",
        "val_losses_np = np.array(val_losses)\n",
        "val_accuracy_np = np.array(val_accuracy)"
      ],
      "metadata": {
        "id": "3-cEDgI-a1DZ"
      },
      "execution_count": 14,
      "outputs": []
    },
    {
      "cell_type": "code",
      "source": [
        "plt.plot(np.arange(0,50),training_losses_np, color='r')\n",
        "plt.xlabel('No. of Iterations')\n",
        "plt.ylabel('Training Loss')\n",
        "plt.savefig('/content/drive/MyDrive/utils/Model1_data/ Iterations vs Loss Graph.jpg')\n",
        "plt.show()"
      ],
      "metadata": {
        "colab": {
          "base_uri": "https://localhost:8080/",
          "height": 279
        },
        "id": "YXl5_pJ6dcJ7",
        "outputId": "87fcd8c1-54b9-4747-fdc3-5d81ed3ebaad"
      },
      "execution_count": 15,
      "outputs": [
        {
          "output_type": "display_data",
          "data": {
            "text/plain": [
              "<Figure size 432x288 with 1 Axes>"
            ],
            "image/png": "[encoded data removed]"
          },
          "metadata": {
            "needs_background": "light"
          }
        }
      ]
    },
    {
      "cell_type": "code",
      "source": [
        "plt.plot(np.arange(0,50),val_losses_np, color='b')\n",
        "plt.xlabel('No. of Iterations')\n",
        "plt.ylabel('Validation Loss')\n",
        "plt.savefig('/content/drive/MyDrive/utils/Model1_data/ Iterations vs Loss Graph.jpg')\n",
        "plt.show()"
      ],
      "metadata": {
        "colab": {
          "base_uri": "https://localhost:8080/",
          "height": 283
        },
        "id": "dAp0MhMtb6OO",
        "outputId": "6ceec7bb-8be3-431c-f4ea-0be61348c0e0"
      },
      "execution_count": 16,
      "outputs": [
        {
          "output_type": "display_data",
          "data": {
            "text/plain": [
              "<Figure size 432x288 with 1 Axes>"
            ],
            "image/png": "[encoded data removed]"
          },
          "metadata": {
            "needs_background": "light"
          }
        }
      ]
    },
    {
      "cell_type": "code",
      "source": [
        "plt.plot(np.arange(0,50),val_accuracy_np, color='g')\n",
        "plt.xlabel('No. of Iterations')\n",
        "plt.ylabel('Accuracy on Validation Set')\n",
        "plt.savefig('/content/drive/MyDrive/utils/Model1_data/ Iterations vs Loss Graph.jpg')\n",
        "plt.show()"
      ],
      "metadata": {
        "colab": {
          "base_uri": "https://localhost:8080/",
          "height": 279
        },
        "id": "ESFRJcpidhtA",
        "outputId": "f35bc1d7-bb5c-4724-a9e1-95965ec66088"
      },
      "execution_count": 17,
      "outputs": [
        {
          "output_type": "display_data",
          "data": {
            "text/plain": [
              "<Figure size 432x288 with 1 Axes>"
            ],
            "image/png": "[encoded data removed]"
          },
          "metadata": {
            "needs_background": "light"
          }
        }
      ]
    },
    {
      "cell_type": "markdown",
      "source": [
        "Model1 Testing "
      ],
      "metadata": {
        "id": "xSzXzaLgasuE"
      }
    },
    {
      "cell_type": "code",
      "source": [
        "with torch.no_grad():\n",
        "  pred = model1(test_inputs)\n",
        "  correct =0 \n",
        "  test_predictions = torch.cat((pred,test_labels),1)\n",
        "  for i in range (test_predictions .shape[0]):\n",
        "    if (abs(test_predictions [i][0]-test_predictions [i][1])<10e-5):\n",
        "      correct =correct +1\n",
        "  print(f'Test Accuracy of Model 1 is: {correct*100/test_predictions .shape[0]}%')"
      ],
      "metadata": {
        "id": "vbYOLWWJZMJ2",
        "colab": {
          "base_uri": "https://localhost:8080/"
        },
        "outputId": "1131f97e-3f2f-499f-b424-7b078fc05c01"
      },
      "execution_count": 18,
      "outputs": [
        {
          "output_type": "stream",
          "name": "stdout",
          "text": [
            "Test Accuracy of Model 1 is: 37.027027027027025%\n"
          ]
        }
      ]
    },
    {
      "cell_type": "code",
      "source": [],
      "metadata": {
        "id": "nQtcqudolVUm"
      },
      "execution_count": null,
      "outputs": []
    }
  ]
}